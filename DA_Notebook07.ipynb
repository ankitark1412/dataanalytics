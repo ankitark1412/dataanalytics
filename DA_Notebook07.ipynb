{
  "nbformat": 4,
  "nbformat_minor": 0,
  "metadata": {
    "colab": {
      "name": "Gradient boosting regressor",
      "provenance": [],
      "collapsed_sections": []
    },
    "kernelspec": {
      "name": "python3",
      "display_name": "Python 3"
    },
    "language_info": {
      "name": "python"
    }
  },
  "cells": [
    {
      "cell_type": "code",
      "execution_count": null,
      "metadata": {
        "id": "RSrqH5JnBecQ"
      },
      "outputs": [],
      "source": [
        "import numpy as np\n",
        "import pandas as pd\n",
        "from sklearn.ensemble import GradientBoostingRegressor\n",
        "import matplotlib.pyplot as plt\n",
        "from sklearn import metrics\n",
        "df = pd.read_csv('train_data_.csv')"
      ]
    },
    {
      "cell_type": "markdown",
      "source": [
        "West Region"
      ],
      "metadata": {
        "id": "eTCcgYYNFJ3F"
      }
    },
    {
      "cell_type": "code",
      "source": [
        "west = df.loc[df['Region'] == \"WEST\"]\n",
        "west = west.drop(['Warehouse id', 'Region', 'SKU id'], axis = 1)"
      ],
      "metadata": {
        "id": "D4fGBEySCKwU"
      },
      "execution_count": null,
      "outputs": []
    },
    {
      "cell_type": "code",
      "source": [
        "x = west.drop([\"May-21\"], axis = 1)\n",
        "y = west[\"May-21\"]\n",
        "y = pd.DataFrame(y)"
      ],
      "metadata": {
        "id": "eqnUjI2RCZFS"
      },
      "execution_count": null,
      "outputs": []
    },
    {
      "cell_type": "code",
      "source": [
        "from sklearn.preprocessing import StandardScaler\n",
        "sc_x = StandardScaler()\n",
        "sc_y = StandardScaler()\n",
        "x = sc_x.fit_transform(x)\n",
        "y = sc_y.fit_transform(y)"
      ],
      "metadata": {
        "id": "OR217xofCbrs"
      },
      "execution_count": null,
      "outputs": []
    },
    {
      "cell_type": "code",
      "source": [
        "from sklearn.model_selection import train_test_split\n",
        "x_train, x_test, y_train, y_test = train_test_split(x, y, test_size = 0.33, random_state = 42)"
      ],
      "metadata": {
        "id": "GwEn6KHcCdaB"
      },
      "execution_count": null,
      "outputs": []
    },
    {
      "cell_type": "code",
      "source": [
        "reg = GradientBoostingRegressor(random_state=0)\n",
        "reg.fit(x_train, y_train)"
      ],
      "metadata": {
        "colab": {
          "base_uri": "https://localhost:8080/"
        },
        "id": "wXDNZYvkCgWR",
        "outputId": "fd215d57-edca-4c4f-ff29-13abecff1ca0"
      },
      "execution_count": null,
      "outputs": [
        {
          "output_type": "stream",
          "name": "stderr",
          "text": [
            "/usr/local/lib/python3.7/dist-packages/sklearn/ensemble/_gb.py:494: DataConversionWarning: A column-vector y was passed when a 1d array was expected. Please change the shape of y to (n_samples, ), for example using ravel().\n",
            "  y = column_or_1d(y, warn=True)\n"
          ]
        },
        {
          "output_type": "execute_result",
          "data": {
            "text/plain": [
              "GradientBoostingRegressor(random_state=0)"
            ]
          },
          "metadata": {},
          "execution_count": 55
        }
      ]
    },
    {
      "cell_type": "code",
      "source": [
        "print(reg.score(x_test, y_test))"
      ],
      "metadata": {
        "colab": {
          "base_uri": "https://localhost:8080/"
        },
        "id": "NgP4n8SxELuK",
        "outputId": "5eeb7c12-e905-481c-f103-c9317ead4432"
      },
      "execution_count": null,
      "outputs": [
        {
          "output_type": "stream",
          "name": "stdout",
          "text": [
            "0.7668064230114642\n"
          ]
        }
      ]
    },
    {
      "cell_type": "code",
      "source": [
        "from sklearn.metrics import mean_absolute_percentage_error as mae\n",
        "y_pred = reg.predict(x_test)\n",
        "mae(y_pred, y_test)"
      ],
      "metadata": {
        "colab": {
          "base_uri": "https://localhost:8080/"
        },
        "id": "AilcHVNmEUQN",
        "outputId": "922fec52-8ee3-46f8-aa48-e50d62718540"
      },
      "execution_count": null,
      "outputs": [
        {
          "output_type": "execute_result",
          "data": {
            "text/plain": [
              "1.5908845964925324"
            ]
          },
          "metadata": {},
          "execution_count": 57
        }
      ]
    },
    {
      "cell_type": "markdown",
      "source": [
        "North Region"
      ],
      "metadata": {
        "id": "lJrFCYU4FP4B"
      }
    },
    {
      "cell_type": "code",
      "source": [
        "north = df.loc[df['Region'] == \"NORTH\"]\n",
        "north = north.drop(['Warehouse id', 'Region', 'SKU id'], axis = 1)\n",
        "x1 = north.drop([\"May-21\"], axis = 1)\n",
        "y1 = north[\"May-21\"]\n",
        "y1 = pd.DataFrame(y1)"
      ],
      "metadata": {
        "id": "F9kozbvYFT72"
      },
      "execution_count": null,
      "outputs": []
    },
    {
      "cell_type": "code",
      "source": [
        "sc_x = StandardScaler()\n",
        "sc_y = StandardScaler()\n",
        "x1 = sc_x.fit_transform(x1)\n",
        "y1 = sc_y.fit_transform(y1)\n",
        "x1_train, x1_test, y1_train, y1_test = train_test_split(x1, y1, test_size = 0.33, random_state = 42)"
      ],
      "metadata": {
        "id": "ZrTDmypyFeTN"
      },
      "execution_count": null,
      "outputs": []
    },
    {
      "cell_type": "code",
      "source": [
        "reg = GradientBoostingRegressor(random_state=0)\n",
        "reg.fit(x1_train, y1_train)\n",
        "print(reg.score(x1_test, y1_test))"
      ],
      "metadata": {
        "colab": {
          "base_uri": "https://localhost:8080/"
        },
        "id": "2goRMQ3vFn69",
        "outputId": "c3294678-4fc1-4582-9e4c-dba4a1efaae6"
      },
      "execution_count": null,
      "outputs": [
        {
          "output_type": "stream",
          "name": "stdout",
          "text": [
            "0.6103363230093246\n"
          ]
        },
        {
          "output_type": "stream",
          "name": "stderr",
          "text": [
            "/usr/local/lib/python3.7/dist-packages/sklearn/ensemble/_gb.py:494: DataConversionWarning: A column-vector y was passed when a 1d array was expected. Please change the shape of y to (n_samples, ), for example using ravel().\n",
            "  y = column_or_1d(y, warn=True)\n"
          ]
        }
      ]
    },
    {
      "cell_type": "code",
      "source": [
        "from sklearn.metrics import mean_absolute_percentage_error as mae\n",
        "y1_pred = reg.predict(x1_test)\n",
        "mae(y1_pred, y1_test)"
      ],
      "metadata": {
        "colab": {
          "base_uri": "https://localhost:8080/"
        },
        "id": "Hyb_xH9RFzbR",
        "outputId": "9bea98b1-f38b-4218-96ed-07ea780ad86d"
      },
      "execution_count": null,
      "outputs": [
        {
          "output_type": "execute_result",
          "data": {
            "text/plain": [
              "4.326435783682067"
            ]
          },
          "metadata": {},
          "execution_count": 61
        }
      ]
    },
    {
      "cell_type": "markdown",
      "source": [
        "South Region"
      ],
      "metadata": {
        "id": "dd6IYMwNGYB_"
      }
    },
    {
      "cell_type": "code",
      "source": [
        "south = df.loc[df['Region'] == \"SOUTH\"]\n",
        "south = south.drop(['Warehouse id', 'Region', 'SKU id'], axis = 1)"
      ],
      "metadata": {
        "id": "87m_tjKQF7of"
      },
      "execution_count": null,
      "outputs": []
    },
    {
      "cell_type": "code",
      "source": [
        "x2 = south.drop([\"May-21\"], axis = 1)\n",
        "y2 = south[\"May-21\"]\n",
        "y2 = pd.DataFrame(y2)"
      ],
      "metadata": {
        "id": "Er1RKbosGqZo"
      },
      "execution_count": null,
      "outputs": []
    },
    {
      "cell_type": "code",
      "source": [
        "sc_x = StandardScaler()\n",
        "sc_y = StandardScaler()\n",
        "x2 = sc_x.fit_transform(x2)\n",
        "y2 = sc_y.fit_transform(y2)\n",
        "x2_train, x2_test, y2_train, y2_test = train_test_split(x2, y2, test_size = 0.33, random_state = 42)"
      ],
      "metadata": {
        "id": "uZyLZsExGuyz"
      },
      "execution_count": null,
      "outputs": []
    },
    {
      "cell_type": "code",
      "source": [
        "reg = GradientBoostingRegressor(random_state=0)\n",
        "reg.fit(x2_train, y2_train)\n",
        "print(reg.score(x2_test, y2_test))"
      ],
      "metadata": {
        "colab": {
          "base_uri": "https://localhost:8080/"
        },
        "id": "SAwT7qlXGxMt",
        "outputId": "7a1ccf1d-7162-4a28-84c4-a0ae79e1ff30"
      },
      "execution_count": null,
      "outputs": [
        {
          "output_type": "stream",
          "name": "stdout",
          "text": [
            "0.6868238903497089\n"
          ]
        },
        {
          "output_type": "stream",
          "name": "stderr",
          "text": [
            "/usr/local/lib/python3.7/dist-packages/sklearn/ensemble/_gb.py:494: DataConversionWarning: A column-vector y was passed when a 1d array was expected. Please change the shape of y to (n_samples, ), for example using ravel().\n",
            "  y = column_or_1d(y, warn=True)\n"
          ]
        }
      ]
    },
    {
      "cell_type": "code",
      "source": [
        "from sklearn.metrics import mean_absolute_percentage_error as mae\n",
        "y2_pred = reg.predict(x2_test)\n",
        "mae(y2_pred, y2_test)"
      ],
      "metadata": {
        "colab": {
          "base_uri": "https://localhost:8080/"
        },
        "id": "jf_Ow8TYHAX-",
        "outputId": "8de2c371-206f-4eb5-f65c-04096a0c386b"
      },
      "execution_count": null,
      "outputs": [
        {
          "output_type": "execute_result",
          "data": {
            "text/plain": [
              "3.391190977326325"
            ]
          },
          "metadata": {},
          "execution_count": 66
        }
      ]
    },
    {
      "cell_type": "markdown",
      "source": [
        "East Region"
      ],
      "metadata": {
        "id": "wTOoCjAoHKHV"
      }
    },
    {
      "cell_type": "code",
      "source": [
        "east= df.loc[df['Region'] == \"EAST\"]\n",
        "east = east.drop(['Warehouse id', 'Region', 'SKU id'], axis = 1)"
      ],
      "metadata": {
        "id": "0acCiZgEHJBP"
      },
      "execution_count": null,
      "outputs": []
    },
    {
      "cell_type": "code",
      "source": [
        "x3 = east.drop([\"May-21\"], axis = 1)\n",
        "y3 = east[\"May-21\"]\n",
        "y3 = pd.DataFrame(y3)"
      ],
      "metadata": {
        "id": "EGz7NeGjHQr6"
      },
      "execution_count": null,
      "outputs": []
    },
    {
      "cell_type": "code",
      "source": [
        "sc_x = StandardScaler()\n",
        "sc_y = StandardScaler()\n",
        "x3 = sc_x.fit_transform(x3)\n",
        "y3 = sc_y.fit_transform(y3)\n",
        "x3_train, x3_test, y3_train, y3_test = train_test_split(x3, y3, test_size = 0.33, random_state = 42)"
      ],
      "metadata": {
        "id": "9K2k_ajIHWUm"
      },
      "execution_count": null,
      "outputs": []
    },
    {
      "cell_type": "code",
      "source": [
        "reg = GradientBoostingRegressor(random_state=0)\n",
        "reg.fit(x3_train, y3_train)\n",
        "print(reg.score(x3_test, y3_test))"
      ],
      "metadata": {
        "colab": {
          "base_uri": "https://localhost:8080/"
        },
        "id": "jirr47UzHdP0",
        "outputId": "844559f0-68ca-444d-d8bf-d0907472cf0a"
      },
      "execution_count": null,
      "outputs": [
        {
          "output_type": "stream",
          "name": "stdout",
          "text": [
            "0.6575422060707736\n"
          ]
        },
        {
          "output_type": "stream",
          "name": "stderr",
          "text": [
            "/usr/local/lib/python3.7/dist-packages/sklearn/ensemble/_gb.py:494: DataConversionWarning: A column-vector y was passed when a 1d array was expected. Please change the shape of y to (n_samples, ), for example using ravel().\n",
            "  y = column_or_1d(y, warn=True)\n"
          ]
        }
      ]
    },
    {
      "cell_type": "code",
      "source": [
        "y3_pred = reg.predict(x3_test)\n",
        "mae(y3_pred, y3_test)"
      ],
      "metadata": {
        "colab": {
          "base_uri": "https://localhost:8080/"
        },
        "id": "GIKUcDXXHi62",
        "outputId": "363c48a9-aed8-4ab4-ab98-d032a48b4df1"
      },
      "execution_count": null,
      "outputs": [
        {
          "output_type": "execute_result",
          "data": {
            "text/plain": [
              "1.8466825581545383"
            ]
          },
          "metadata": {},
          "execution_count": 71
        }
      ]
    },
    {
      "cell_type": "markdown",
      "source": [
        "All regions combined"
      ],
      "metadata": {
        "id": "rZPN0198HrPt"
      }
    },
    {
      "cell_type": "code",
      "source": [
        "df = df.drop(['Warehouse id', 'Region', 'SKU id'], axis = 1)\n",
        "x4 = df.drop([\"May-21\"], axis = 1)\n",
        "y4 = df[\"May-21\"]\n",
        "y4 = pd.DataFrame(y4)"
      ],
      "metadata": {
        "id": "tMuNlwjcHtWY"
      },
      "execution_count": null,
      "outputs": []
    },
    {
      "cell_type": "code",
      "source": [
        "sc_x = StandardScaler()\n",
        "sc_y = StandardScaler()\n",
        "x4 = sc_x.fit_transform(x4)\n",
        "y4 = sc_y.fit_transform(y4)\n",
        "x4_train, x4_test, y4_train, y4_test = train_test_split(x4, y4, test_size = 0.33, random_state = 42)"
      ],
      "metadata": {
        "id": "jpkf3vJsHy2a"
      },
      "execution_count": null,
      "outputs": []
    },
    {
      "cell_type": "code",
      "source": [
        "reg = GradientBoostingRegressor(random_state=0)\n",
        "reg.fit(x4_train, y4_train)\n",
        "print(reg.score(x4_test, y4_test))"
      ],
      "metadata": {
        "colab": {
          "base_uri": "https://localhost:8080/"
        },
        "id": "a_LeVelqH3AT",
        "outputId": "e9ad1fe1-ab9c-4df2-b7ef-4a302f2c848e"
      },
      "execution_count": null,
      "outputs": [
        {
          "output_type": "stream",
          "name": "stderr",
          "text": [
            "/usr/local/lib/python3.7/dist-packages/sklearn/ensemble/_gb.py:494: DataConversionWarning: A column-vector y was passed when a 1d array was expected. Please change the shape of y to (n_samples, ), for example using ravel().\n",
            "  y = column_or_1d(y, warn=True)\n"
          ]
        },
        {
          "output_type": "stream",
          "name": "stdout",
          "text": [
            "0.6330305671683916\n"
          ]
        }
      ]
    },
    {
      "cell_type": "code",
      "source": [
        "y4_pred = reg.predict(x4_test)\n",
        "mae(y4_pred, y4_test)"
      ],
      "metadata": {
        "colab": {
          "base_uri": "https://localhost:8080/"
        },
        "id": "pHp1Lv-kIA9C",
        "outputId": "d043cff6-94cf-4f1a-dbb0-9d9f3f9875d4"
      },
      "execution_count": null,
      "outputs": [
        {
          "output_type": "execute_result",
          "data": {
            "text/plain": [
              "1.5332169720855517"
            ]
          },
          "metadata": {},
          "execution_count": 75
        }
      ]
    }
  ]
}