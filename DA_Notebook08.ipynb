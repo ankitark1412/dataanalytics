{
  "nbformat": 4,
  "nbformat_minor": 0,
  "metadata": {
    "colab": {
      "name": "LightGBM",
      "provenance": []
    },
    "kernelspec": {
      "name": "python3",
      "display_name": "Python 3"
    },
    "language_info": {
      "name": "python"
    }
  },
  "cells": [
    {
      "cell_type": "code",
      "execution_count": null,
      "metadata": {
        "id": "brjTh380cot4"
      },
      "outputs": [],
      "source": [
        "import lightgbm as lgb\n",
        "import numpy as np\n",
        "import pandas as pd\n",
        "import matplotlib.pyplot as plt\n",
        "from sklearn import metrics"
      ]
    },
    {
      "cell_type": "code",
      "source": [
        "df = pd.read_csv('train_data_.csv')"
      ],
      "metadata": {
        "id": "9qCXVSuWdk0K"
      },
      "execution_count": null,
      "outputs": []
    },
    {
      "cell_type": "markdown",
      "source": [
        "West Region"
      ],
      "metadata": {
        "id": "fYS6k4FvlOkT"
      }
    },
    {
      "cell_type": "code",
      "source": [
        "west = df.loc[df['Region'] == \"WEST\"]\n",
        "west = west.drop(['Warehouse id', 'Region', 'SKU id'], axis = 1)\n",
        "west"
      ],
      "metadata": {
        "colab": {
          "base_uri": "https://localhost:8080/",
          "height": 467
        },
        "id": "Tdnc8Gold3XC",
        "outputId": "2b53911c-00e7-4eab-e34c-9536ebe25d27"
      },
      "execution_count": null,
      "outputs": [
        {
          "output_type": "execute_result",
          "data": {
            "text/html": [
              "\n",
              "  <div id=\"df-78aa48f8-f3fb-456d-955b-fde6e6ef7be4\">\n",
              "    <div class=\"colab-df-container\">\n",
              "      <div>\n",
              "<style scoped>\n",
              "    .dataframe tbody tr th:only-of-type {\n",
              "        vertical-align: middle;\n",
              "    }\n",
              "\n",
              "    .dataframe tbody tr th {\n",
              "        vertical-align: top;\n",
              "    }\n",
              "\n",
              "    .dataframe thead th {\n",
              "        text-align: right;\n",
              "    }\n",
              "</style>\n",
              "<table border=\"1\" class=\"dataframe\">\n",
              "  <thead>\n",
              "    <tr style=\"text-align: right;\">\n",
              "      <th></th>\n",
              "      <th>Apr-18</th>\n",
              "      <th>May-18</th>\n",
              "      <th>Jun-18</th>\n",
              "      <th>Jul-18</th>\n",
              "      <th>Aug-18</th>\n",
              "      <th>Sep-18</th>\n",
              "      <th>Oct-18</th>\n",
              "      <th>Nov-18</th>\n",
              "      <th>Dec-18</th>\n",
              "      <th>Jan-19</th>\n",
              "      <th>...</th>\n",
              "      <th>Aug-20</th>\n",
              "      <th>Sep-20</th>\n",
              "      <th>Oct-20</th>\n",
              "      <th>Nov-20</th>\n",
              "      <th>Dec-20</th>\n",
              "      <th>Jan-21</th>\n",
              "      <th>Feb-21</th>\n",
              "      <th>Mar-21</th>\n",
              "      <th>Apr-21</th>\n",
              "      <th>May-21</th>\n",
              "    </tr>\n",
              "  </thead>\n",
              "  <tbody>\n",
              "    <tr>\n",
              "      <th>445</th>\n",
              "      <td>90</td>\n",
              "      <td>69</td>\n",
              "      <td>48</td>\n",
              "      <td>33</td>\n",
              "      <td>18</td>\n",
              "      <td>51</td>\n",
              "      <td>105</td>\n",
              "      <td>42</td>\n",
              "      <td>30</td>\n",
              "      <td>54</td>\n",
              "      <td>...</td>\n",
              "      <td>105</td>\n",
              "      <td>99</td>\n",
              "      <td>126</td>\n",
              "      <td>141</td>\n",
              "      <td>138</td>\n",
              "      <td>24</td>\n",
              "      <td>288</td>\n",
              "      <td>135</td>\n",
              "      <td>87</td>\n",
              "      <td>117</td>\n",
              "    </tr>\n",
              "    <tr>\n",
              "      <th>446</th>\n",
              "      <td>127</td>\n",
              "      <td>71</td>\n",
              "      <td>11</td>\n",
              "      <td>31</td>\n",
              "      <td>63</td>\n",
              "      <td>43</td>\n",
              "      <td>175</td>\n",
              "      <td>51</td>\n",
              "      <td>247</td>\n",
              "      <td>27</td>\n",
              "      <td>...</td>\n",
              "      <td>55</td>\n",
              "      <td>315</td>\n",
              "      <td>211</td>\n",
              "      <td>143</td>\n",
              "      <td>95</td>\n",
              "      <td>43</td>\n",
              "      <td>115</td>\n",
              "      <td>171</td>\n",
              "      <td>103</td>\n",
              "      <td>155</td>\n",
              "    </tr>\n",
              "    <tr>\n",
              "      <th>447</th>\n",
              "      <td>20</td>\n",
              "      <td>23</td>\n",
              "      <td>29</td>\n",
              "      <td>23</td>\n",
              "      <td>41</td>\n",
              "      <td>20</td>\n",
              "      <td>20</td>\n",
              "      <td>20</td>\n",
              "      <td>20</td>\n",
              "      <td>20</td>\n",
              "      <td>...</td>\n",
              "      <td>20</td>\n",
              "      <td>20</td>\n",
              "      <td>29</td>\n",
              "      <td>26</td>\n",
              "      <td>32</td>\n",
              "      <td>20</td>\n",
              "      <td>26</td>\n",
              "      <td>23</td>\n",
              "      <td>59</td>\n",
              "      <td>20</td>\n",
              "    </tr>\n",
              "    <tr>\n",
              "      <th>448</th>\n",
              "      <td>36</td>\n",
              "      <td>31</td>\n",
              "      <td>37</td>\n",
              "      <td>28</td>\n",
              "      <td>29</td>\n",
              "      <td>43</td>\n",
              "      <td>54</td>\n",
              "      <td>27</td>\n",
              "      <td>17</td>\n",
              "      <td>31</td>\n",
              "      <td>...</td>\n",
              "      <td>62</td>\n",
              "      <td>50</td>\n",
              "      <td>80</td>\n",
              "      <td>82</td>\n",
              "      <td>83</td>\n",
              "      <td>92</td>\n",
              "      <td>95</td>\n",
              "      <td>134</td>\n",
              "      <td>93</td>\n",
              "      <td>21</td>\n",
              "    </tr>\n",
              "    <tr>\n",
              "      <th>449</th>\n",
              "      <td>105</td>\n",
              "      <td>21</td>\n",
              "      <td>45</td>\n",
              "      <td>42</td>\n",
              "      <td>12</td>\n",
              "      <td>30</td>\n",
              "      <td>18</td>\n",
              "      <td>21</td>\n",
              "      <td>6</td>\n",
              "      <td>96</td>\n",
              "      <td>...</td>\n",
              "      <td>177</td>\n",
              "      <td>204</td>\n",
              "      <td>252</td>\n",
              "      <td>150</td>\n",
              "      <td>78</td>\n",
              "      <td>492</td>\n",
              "      <td>303</td>\n",
              "      <td>117</td>\n",
              "      <td>210</td>\n",
              "      <td>234</td>\n",
              "    </tr>\n",
              "    <tr>\n",
              "      <th>...</th>\n",
              "      <td>...</td>\n",
              "      <td>...</td>\n",
              "      <td>...</td>\n",
              "      <td>...</td>\n",
              "      <td>...</td>\n",
              "      <td>...</td>\n",
              "      <td>...</td>\n",
              "      <td>...</td>\n",
              "      <td>...</td>\n",
              "      <td>...</td>\n",
              "      <td>...</td>\n",
              "      <td>...</td>\n",
              "      <td>...</td>\n",
              "      <td>...</td>\n",
              "      <td>...</td>\n",
              "      <td>...</td>\n",
              "      <td>...</td>\n",
              "      <td>...</td>\n",
              "      <td>...</td>\n",
              "      <td>...</td>\n",
              "      <td>...</td>\n",
              "    </tr>\n",
              "    <tr>\n",
              "      <th>748</th>\n",
              "      <td>9</td>\n",
              "      <td>9</td>\n",
              "      <td>9</td>\n",
              "      <td>9</td>\n",
              "      <td>9</td>\n",
              "      <td>9</td>\n",
              "      <td>9</td>\n",
              "      <td>9</td>\n",
              "      <td>9</td>\n",
              "      <td>9</td>\n",
              "      <td>...</td>\n",
              "      <td>9</td>\n",
              "      <td>9</td>\n",
              "      <td>9</td>\n",
              "      <td>9</td>\n",
              "      <td>9</td>\n",
              "      <td>41</td>\n",
              "      <td>9</td>\n",
              "      <td>9</td>\n",
              "      <td>9</td>\n",
              "      <td>9</td>\n",
              "    </tr>\n",
              "    <tr>\n",
              "      <th>749</th>\n",
              "      <td>90</td>\n",
              "      <td>256</td>\n",
              "      <td>106</td>\n",
              "      <td>62</td>\n",
              "      <td>78</td>\n",
              "      <td>90</td>\n",
              "      <td>98</td>\n",
              "      <td>142</td>\n",
              "      <td>118</td>\n",
              "      <td>78</td>\n",
              "      <td>...</td>\n",
              "      <td>14</td>\n",
              "      <td>22</td>\n",
              "      <td>62</td>\n",
              "      <td>22</td>\n",
              "      <td>64</td>\n",
              "      <td>174</td>\n",
              "      <td>190</td>\n",
              "      <td>194</td>\n",
              "      <td>26</td>\n",
              "      <td>62</td>\n",
              "    </tr>\n",
              "    <tr>\n",
              "      <th>750</th>\n",
              "      <td>66</td>\n",
              "      <td>150</td>\n",
              "      <td>186</td>\n",
              "      <td>30</td>\n",
              "      <td>42</td>\n",
              "      <td>90</td>\n",
              "      <td>69</td>\n",
              "      <td>96</td>\n",
              "      <td>69</td>\n",
              "      <td>12</td>\n",
              "      <td>...</td>\n",
              "      <td>6</td>\n",
              "      <td>6</td>\n",
              "      <td>36</td>\n",
              "      <td>24</td>\n",
              "      <td>54</td>\n",
              "      <td>96</td>\n",
              "      <td>120</td>\n",
              "      <td>138</td>\n",
              "      <td>12</td>\n",
              "      <td>30</td>\n",
              "    </tr>\n",
              "    <tr>\n",
              "      <th>751</th>\n",
              "      <td>17</td>\n",
              "      <td>23</td>\n",
              "      <td>11</td>\n",
              "      <td>17</td>\n",
              "      <td>11</td>\n",
              "      <td>53</td>\n",
              "      <td>23</td>\n",
              "      <td>41</td>\n",
              "      <td>17</td>\n",
              "      <td>29</td>\n",
              "      <td>...</td>\n",
              "      <td>11</td>\n",
              "      <td>11</td>\n",
              "      <td>71</td>\n",
              "      <td>35</td>\n",
              "      <td>59</td>\n",
              "      <td>77</td>\n",
              "      <td>29</td>\n",
              "      <td>23</td>\n",
              "      <td>11</td>\n",
              "      <td>71</td>\n",
              "    </tr>\n",
              "    <tr>\n",
              "      <th>752</th>\n",
              "      <td>76</td>\n",
              "      <td>28</td>\n",
              "      <td>20</td>\n",
              "      <td>28</td>\n",
              "      <td>20</td>\n",
              "      <td>44</td>\n",
              "      <td>116</td>\n",
              "      <td>100</td>\n",
              "      <td>88</td>\n",
              "      <td>244</td>\n",
              "      <td>...</td>\n",
              "      <td>20</td>\n",
              "      <td>20</td>\n",
              "      <td>20</td>\n",
              "      <td>20</td>\n",
              "      <td>20</td>\n",
              "      <td>164</td>\n",
              "      <td>124</td>\n",
              "      <td>52</td>\n",
              "      <td>28</td>\n",
              "      <td>36</td>\n",
              "    </tr>\n",
              "  </tbody>\n",
              "</table>\n",
              "<p>308 rows × 38 columns</p>\n",
              "</div>\n",
              "      <button class=\"colab-df-convert\" onclick=\"convertToInteractive('df-78aa48f8-f3fb-456d-955b-fde6e6ef7be4')\"\n",
              "              title=\"Convert this dataframe to an interactive table.\"\n",
              "              style=\"display:none;\">\n",
              "        \n",
              "  <svg xmlns=\"http://www.w3.org/2000/svg\" height=\"24px\"viewBox=\"0 0 24 24\"\n",
              "       width=\"24px\">\n",
              "    <path d=\"M0 0h24v24H0V0z\" fill=\"none\"/>\n",
              "    <path d=\"M18.56 5.44l.94 2.06.94-2.06 2.06-.94-2.06-.94-.94-2.06-.94 2.06-2.06.94zm-11 1L8.5 8.5l.94-2.06 2.06-.94-2.06-.94L8.5 2.5l-.94 2.06-2.06.94zm10 10l.94 2.06.94-2.06 2.06-.94-2.06-.94-.94-2.06-.94 2.06-2.06.94z\"/><path d=\"M17.41 7.96l-1.37-1.37c-.4-.4-.92-.59-1.43-.59-.52 0-1.04.2-1.43.59L10.3 9.45l-7.72 7.72c-.78.78-.78 2.05 0 2.83L4 21.41c.39.39.9.59 1.41.59.51 0 1.02-.2 1.41-.59l7.78-7.78 2.81-2.81c.8-.78.8-2.07 0-2.86zM5.41 20L4 18.59l7.72-7.72 1.47 1.35L5.41 20z\"/>\n",
              "  </svg>\n",
              "      </button>\n",
              "      \n",
              "  <style>\n",
              "    .colab-df-container {\n",
              "      display:flex;\n",
              "      flex-wrap:wrap;\n",
              "      gap: 12px;\n",
              "    }\n",
              "\n",
              "    .colab-df-convert {\n",
              "      background-color: #E8F0FE;\n",
              "      border: none;\n",
              "      border-radius: 50%;\n",
              "      cursor: pointer;\n",
              "      display: none;\n",
              "      fill: #1967D2;\n",
              "      height: 32px;\n",
              "      padding: 0 0 0 0;\n",
              "      width: 32px;\n",
              "    }\n",
              "\n",
              "    .colab-df-convert:hover {\n",
              "      background-color: #E2EBFA;\n",
              "      box-shadow: 0px 1px 2px rgba(60, 64, 67, 0.3), 0px 1px 3px 1px rgba(60, 64, 67, 0.15);\n",
              "      fill: #174EA6;\n",
              "    }\n",
              "\n",
              "    [theme=dark] .colab-df-convert {\n",
              "      background-color: #3B4455;\n",
              "      fill: #D2E3FC;\n",
              "    }\n",
              "\n",
              "    [theme=dark] .colab-df-convert:hover {\n",
              "      background-color: #434B5C;\n",
              "      box-shadow: 0px 1px 3px 1px rgba(0, 0, 0, 0.15);\n",
              "      filter: drop-shadow(0px 1px 2px rgba(0, 0, 0, 0.3));\n",
              "      fill: #FFFFFF;\n",
              "    }\n",
              "  </style>\n",
              "\n",
              "      <script>\n",
              "        const buttonEl =\n",
              "          document.querySelector('#df-78aa48f8-f3fb-456d-955b-fde6e6ef7be4 button.colab-df-convert');\n",
              "        buttonEl.style.display =\n",
              "          google.colab.kernel.accessAllowed ? 'block' : 'none';\n",
              "\n",
              "        async function convertToInteractive(key) {\n",
              "          const element = document.querySelector('#df-78aa48f8-f3fb-456d-955b-fde6e6ef7be4');\n",
              "          const dataTable =\n",
              "            await google.colab.kernel.invokeFunction('convertToInteractive',\n",
              "                                                     [key], {});\n",
              "          if (!dataTable) return;\n",
              "\n",
              "          const docLinkHtml = 'Like what you see? Visit the ' +\n",
              "            '<a target=\"_blank\" href=https://colab.research.google.com/notebooks/data_table.ipynb>data table notebook</a>'\n",
              "            + ' to learn more about interactive tables.';\n",
              "          element.innerHTML = '';\n",
              "          dataTable['output_type'] = 'display_data';\n",
              "          await google.colab.output.renderOutput(dataTable, element);\n",
              "          const docLink = document.createElement('div');\n",
              "          docLink.innerHTML = docLinkHtml;\n",
              "          element.appendChild(docLink);\n",
              "        }\n",
              "      </script>\n",
              "    </div>\n",
              "  </div>\n",
              "  "
            ],
            "text/plain": [
              "     Apr-18  May-18  Jun-18  Jul-18  Aug-18  Sep-18  Oct-18  Nov-18  Dec-18  \\\n",
              "445      90      69      48      33      18      51     105      42      30   \n",
              "446     127      71      11      31      63      43     175      51     247   \n",
              "447      20      23      29      23      41      20      20      20      20   \n",
              "448      36      31      37      28      29      43      54      27      17   \n",
              "449     105      21      45      42      12      30      18      21       6   \n",
              "..      ...     ...     ...     ...     ...     ...     ...     ...     ...   \n",
              "748       9       9       9       9       9       9       9       9       9   \n",
              "749      90     256     106      62      78      90      98     142     118   \n",
              "750      66     150     186      30      42      90      69      96      69   \n",
              "751      17      23      11      17      11      53      23      41      17   \n",
              "752      76      28      20      28      20      44     116     100      88   \n",
              "\n",
              "     Jan-19  ...  Aug-20  Sep-20  Oct-20  Nov-20  Dec-20  Jan-21  Feb-21  \\\n",
              "445      54  ...     105      99     126     141     138      24     288   \n",
              "446      27  ...      55     315     211     143      95      43     115   \n",
              "447      20  ...      20      20      29      26      32      20      26   \n",
              "448      31  ...      62      50      80      82      83      92      95   \n",
              "449      96  ...     177     204     252     150      78     492     303   \n",
              "..      ...  ...     ...     ...     ...     ...     ...     ...     ...   \n",
              "748       9  ...       9       9       9       9       9      41       9   \n",
              "749      78  ...      14      22      62      22      64     174     190   \n",
              "750      12  ...       6       6      36      24      54      96     120   \n",
              "751      29  ...      11      11      71      35      59      77      29   \n",
              "752     244  ...      20      20      20      20      20     164     124   \n",
              "\n",
              "     Mar-21  Apr-21  May-21  \n",
              "445     135      87     117  \n",
              "446     171     103     155  \n",
              "447      23      59      20  \n",
              "448     134      93      21  \n",
              "449     117     210     234  \n",
              "..      ...     ...     ...  \n",
              "748       9       9       9  \n",
              "749     194      26      62  \n",
              "750     138      12      30  \n",
              "751      23      11      71  \n",
              "752      52      28      36  \n",
              "\n",
              "[308 rows x 38 columns]"
            ]
          },
          "metadata": {},
          "execution_count": 286
        }
      ]
    },
    {
      "cell_type": "code",
      "source": [
        "x = west.drop([\"May-21\"], axis = 1)\n",
        "y = west[\"May-21\"]\n",
        "y = pd.DataFrame(y)"
      ],
      "metadata": {
        "id": "4r380SfveRUN"
      },
      "execution_count": null,
      "outputs": []
    },
    {
      "cell_type": "code",
      "source": [
        "from sklearn.preprocessing import StandardScaler\n",
        "sc_x = StandardScaler()\n",
        "sc_y = StandardScaler()\n",
        "x = sc_x.fit_transform(x)\n",
        "y = sc_y.fit_transform(y)"
      ],
      "metadata": {
        "id": "Y7wbsLIZsrpe"
      },
      "execution_count": null,
      "outputs": []
    },
    {
      "cell_type": "code",
      "source": [
        "from sklearn.model_selection import train_test_split\n",
        "x_train, x_test, y_train, y_test = train_test_split(x, y, test_size = 0.33, random_state = 42)"
      ],
      "metadata": {
        "id": "sZBaaHMEeXXE"
      },
      "execution_count": null,
      "outputs": []
    },
    {
      "cell_type": "code",
      "source": [
        "model = lgb.LGBMRegressor()\n",
        "model.fit(x_train, y_train)"
      ],
      "metadata": {
        "colab": {
          "base_uri": "https://localhost:8080/"
        },
        "id": "B8W_ZhQ6h_h6",
        "outputId": "ebcf2eb6-a3d6-467f-dde0-8cdf5e45161a"
      },
      "execution_count": null,
      "outputs": [
        {
          "output_type": "stream",
          "name": "stderr",
          "text": [
            "/usr/local/lib/python3.7/dist-packages/sklearn/utils/validation.py:993: DataConversionWarning: A column-vector y was passed when a 1d array was expected. Please change the shape of y to (n_samples, ), for example using ravel().\n",
            "  y = column_or_1d(y, warn=True)\n"
          ]
        },
        {
          "output_type": "execute_result",
          "data": {
            "text/plain": [
              "LGBMRegressor()"
            ]
          },
          "metadata": {},
          "execution_count": 290
        }
      ]
    },
    {
      "cell_type": "code",
      "source": [
        "y_pred = model.predict(x_test)"
      ],
      "metadata": {
        "id": "p17Zov3tjDfA"
      },
      "execution_count": null,
      "outputs": []
    },
    {
      "cell_type": "code",
      "source": [
        "print(metrics.r2_score(y_test, y_pred))"
      ],
      "metadata": {
        "colab": {
          "base_uri": "https://localhost:8080/"
        },
        "id": "4SCSGFyOiJAx",
        "outputId": "0721eeec-cec3-4d5b-849c-65237b462199"
      },
      "execution_count": null,
      "outputs": [
        {
          "output_type": "stream",
          "name": "stdout",
          "text": [
            "0.2513021127688201\n"
          ]
        }
      ]
    },
    {
      "cell_type": "code",
      "source": [
        "from sklearn.metrics import mean_absolute_percentage_error as mae\n",
        "\n",
        "mae(y_pred, y_test)"
      ],
      "metadata": {
        "colab": {
          "base_uri": "https://localhost:8080/"
        },
        "id": "OwYhrgrWjwQa",
        "outputId": "af79b177-9da7-462f-fcb1-17afd4aa8521"
      },
      "execution_count": null,
      "outputs": [
        {
          "output_type": "execute_result",
          "data": {
            "text/plain": [
              "2.7684261186813797"
            ]
          },
          "metadata": {},
          "execution_count": 293
        }
      ]
    },
    {
      "cell_type": "markdown",
      "source": [
        "North Region "
      ],
      "metadata": {
        "id": "k9UlUII8lXZk"
      }
    },
    {
      "cell_type": "code",
      "source": [
        "north = df.loc[df['Region'] == \"NORTH\"]\n",
        "north = north.drop(['Warehouse id', 'Region', 'SKU id'], axis = 1)"
      ],
      "metadata": {
        "id": "A4PXnqWQlS0V"
      },
      "execution_count": null,
      "outputs": []
    },
    {
      "cell_type": "code",
      "source": [
        "x1 = north.drop([\"May-21\"], axis = 1)\n",
        "y1 = north[\"May-21\"]\n",
        "y1 = pd.DataFrame(y1)"
      ],
      "metadata": {
        "id": "8QEbgNeUl14m"
      },
      "execution_count": null,
      "outputs": []
    },
    {
      "cell_type": "code",
      "source": [
        "from sklearn.preprocessing import StandardScaler\n",
        "sc_x = StandardScaler()\n",
        "sc_y = StandardScaler()\n",
        "x1 = sc_x.fit_transform(x1)\n",
        "y1 = sc_y.fit_transform(y1)"
      ],
      "metadata": {
        "id": "wWHnQYuStHpc"
      },
      "execution_count": null,
      "outputs": []
    },
    {
      "cell_type": "code",
      "source": [
        "from sklearn.model_selection import train_test_split\n",
        "x1_train, x1_test, y1_train, y1_test = train_test_split(x1, y1, test_size = 0.33, random_state = 42)"
      ],
      "metadata": {
        "id": "SsbAjFsXmC3u"
      },
      "execution_count": null,
      "outputs": []
    },
    {
      "cell_type": "code",
      "source": [
        "model.fit(x1_train, y1_train)"
      ],
      "metadata": {
        "colab": {
          "base_uri": "https://localhost:8080/"
        },
        "id": "hO51i32MmOWC",
        "outputId": "48944a66-b5b1-4e08-cda3-5aac790fcfc2"
      },
      "execution_count": null,
      "outputs": [
        {
          "output_type": "stream",
          "name": "stderr",
          "text": [
            "/usr/local/lib/python3.7/dist-packages/sklearn/utils/validation.py:993: DataConversionWarning: A column-vector y was passed when a 1d array was expected. Please change the shape of y to (n_samples, ), for example using ravel().\n",
            "  y = column_or_1d(y, warn=True)\n"
          ]
        },
        {
          "output_type": "execute_result",
          "data": {
            "text/plain": [
              "LGBMRegressor()"
            ]
          },
          "metadata": {},
          "execution_count": 298
        }
      ]
    },
    {
      "cell_type": "code",
      "source": [
        "y1_pred = model.predict(x1_test)\n",
        "print(metrics.r2_score(y1_test, y1_pred))"
      ],
      "metadata": {
        "colab": {
          "base_uri": "https://localhost:8080/"
        },
        "id": "Ingc4IDymVWB",
        "outputId": "f0d8ac8a-1ae9-4aba-8b00-41009dd79bb8"
      },
      "execution_count": null,
      "outputs": [
        {
          "output_type": "stream",
          "name": "stdout",
          "text": [
            "0.13025003371616906\n"
          ]
        }
      ]
    },
    {
      "cell_type": "code",
      "source": [
        "mae(y1_pred, y1_test)"
      ],
      "metadata": {
        "colab": {
          "base_uri": "https://localhost:8080/"
        },
        "id": "B1-ijCe9mfWd",
        "outputId": "1a951fcd-83c4-4ef8-bf26-182ee0cdf6e8"
      },
      "execution_count": null,
      "outputs": [
        {
          "output_type": "execute_result",
          "data": {
            "text/plain": [
              "2.9165688717522897"
            ]
          },
          "metadata": {},
          "execution_count": 300
        }
      ]
    },
    {
      "cell_type": "markdown",
      "source": [
        "South Region"
      ],
      "metadata": {
        "id": "n-9YAV6Vp1um"
      }
    },
    {
      "cell_type": "code",
      "source": [
        "south = df.loc[df['Region'] == \"SOUTH\"]\n",
        "south = south.drop(['Warehouse id', 'Region', 'SKU id'], axis = 1)"
      ],
      "metadata": {
        "id": "91Cq99A8p3_X"
      },
      "execution_count": null,
      "outputs": []
    },
    {
      "cell_type": "code",
      "source": [
        "x2 = south.drop([\"May-21\"], axis = 1)\n",
        "y2 = south[\"May-21\"]\n",
        "y2 = pd.DataFrame(y2)"
      ],
      "metadata": {
        "id": "uvvqKE1VqA-4"
      },
      "execution_count": null,
      "outputs": []
    },
    {
      "cell_type": "code",
      "source": [
        "from sklearn.preprocessing import StandardScaler\n",
        "sc_x = StandardScaler()\n",
        "sc_y = StandardScaler()\n",
        "x2 = sc_x.fit_transform(x2)\n",
        "y2 = sc_y.fit_transform(y2)"
      ],
      "metadata": {
        "id": "ayNub_lvtS3P"
      },
      "execution_count": null,
      "outputs": []
    },
    {
      "cell_type": "code",
      "source": [
        "from sklearn.model_selection import train_test_split\n",
        "x2_train, x2_test, y2_train, y2_test = train_test_split(x2, y2, test_size = 0.33, random_state = 42)"
      ],
      "metadata": {
        "id": "1KoPLctMqNcK"
      },
      "execution_count": null,
      "outputs": []
    },
    {
      "cell_type": "code",
      "source": [
        "model.fit(x2_train, y2_train)"
      ],
      "metadata": {
        "colab": {
          "base_uri": "https://localhost:8080/"
        },
        "id": "mtd5OLCQqUM1",
        "outputId": "970d666d-c2cf-4d4c-a31c-de9b24205459"
      },
      "execution_count": null,
      "outputs": [
        {
          "output_type": "stream",
          "name": "stderr",
          "text": [
            "/usr/local/lib/python3.7/dist-packages/sklearn/utils/validation.py:993: DataConversionWarning: A column-vector y was passed when a 1d array was expected. Please change the shape of y to (n_samples, ), for example using ravel().\n",
            "  y = column_or_1d(y, warn=True)\n"
          ]
        },
        {
          "output_type": "execute_result",
          "data": {
            "text/plain": [
              "LGBMRegressor()"
            ]
          },
          "metadata": {},
          "execution_count": 305
        }
      ]
    },
    {
      "cell_type": "code",
      "source": [
        "y2_pred = model.predict(x2_test)\n",
        "print(metrics.r2_score(y2_test, y2_pred))"
      ],
      "metadata": {
        "colab": {
          "base_uri": "https://localhost:8080/"
        },
        "id": "9B6izDtRqZ4_",
        "outputId": "d1f5f97b-aaa5-41e6-994c-3440f3ff02a9"
      },
      "execution_count": null,
      "outputs": [
        {
          "output_type": "stream",
          "name": "stdout",
          "text": [
            "0.5009692349808941\n"
          ]
        }
      ]
    },
    {
      "cell_type": "code",
      "source": [
        "mae(y2_pred, y2_test)"
      ],
      "metadata": {
        "colab": {
          "base_uri": "https://localhost:8080/"
        },
        "id": "zDq_yaRQqh4Y",
        "outputId": "b5c8372f-2e39-437c-bfbd-f719b5799644"
      },
      "execution_count": null,
      "outputs": [
        {
          "output_type": "execute_result",
          "data": {
            "text/plain": [
              "1.0590651550808705"
            ]
          },
          "metadata": {},
          "execution_count": 307
        }
      ]
    },
    {
      "cell_type": "markdown",
      "source": [
        "East Region"
      ],
      "metadata": {
        "id": "dOTN6DuYoA7B"
      }
    },
    {
      "cell_type": "code",
      "source": [
        "east= df.loc[df['Region'] == \"EAST\"]\n",
        "east = east.drop(['Warehouse id', 'Region', 'SKU id'], axis = 1)"
      ],
      "metadata": {
        "id": "4TlzSFJgoInB"
      },
      "execution_count": null,
      "outputs": []
    },
    {
      "cell_type": "code",
      "source": [
        "x3 = east.drop([\"May-21\"], axis = 1)\n",
        "y3 = east[\"May-21\"]\n",
        "y3 = pd.DataFrame(y3)"
      ],
      "metadata": {
        "id": "5XbY3s1xoQ2L"
      },
      "execution_count": null,
      "outputs": []
    },
    {
      "cell_type": "code",
      "source": [
        "from sklearn.preprocessing import StandardScaler\n",
        "sc_x = StandardScaler()\n",
        "sc_y = StandardScaler()\n",
        "x3 = sc_x.fit_transform(x3)\n",
        "y3 = sc_y.fit_transform(y3)"
      ],
      "metadata": {
        "id": "dMVQmYLQtcbG"
      },
      "execution_count": null,
      "outputs": []
    },
    {
      "cell_type": "code",
      "source": [
        "x3_train, x3_test, y3_train, y3_test = train_test_split(x3, y3, test_size = 0.33, random_state = 42)"
      ],
      "metadata": {
        "id": "2fsuvXbXobg8"
      },
      "execution_count": null,
      "outputs": []
    },
    {
      "cell_type": "code",
      "source": [
        "model.fit(x3_train, y3_train)"
      ],
      "metadata": {
        "colab": {
          "base_uri": "https://localhost:8080/"
        },
        "id": "AYudpSYoq_xi",
        "outputId": "4d0092c1-450b-45bd-d1a8-0857265c5362"
      },
      "execution_count": null,
      "outputs": [
        {
          "output_type": "stream",
          "name": "stderr",
          "text": [
            "/usr/local/lib/python3.7/dist-packages/sklearn/utils/validation.py:993: DataConversionWarning: A column-vector y was passed when a 1d array was expected. Please change the shape of y to (n_samples, ), for example using ravel().\n",
            "  y = column_or_1d(y, warn=True)\n"
          ]
        },
        {
          "output_type": "execute_result",
          "data": {
            "text/plain": [
              "LGBMRegressor()"
            ]
          },
          "metadata": {},
          "execution_count": 312
        }
      ]
    },
    {
      "cell_type": "code",
      "source": [
        "y3_pred = model.predict(x3_test)\n",
        "print(metrics.r2_score(y3_test, y3_pred))"
      ],
      "metadata": {
        "colab": {
          "base_uri": "https://localhost:8080/"
        },
        "id": "-dwi8gMYrDCV",
        "outputId": "616aa8d3-36ac-4872-9bab-8ee5312e0a67"
      },
      "execution_count": null,
      "outputs": [
        {
          "output_type": "stream",
          "name": "stdout",
          "text": [
            "0.3883188311658019\n"
          ]
        }
      ]
    },
    {
      "cell_type": "code",
      "source": [
        "mae(y3_pred, y3_test)"
      ],
      "metadata": {
        "colab": {
          "base_uri": "https://localhost:8080/"
        },
        "id": "y9SxeegirLRq",
        "outputId": "4f5df74a-ae02-4d6a-907a-80118cf6502c"
      },
      "execution_count": null,
      "outputs": [
        {
          "output_type": "execute_result",
          "data": {
            "text/plain": [
              "1.1614047663713918"
            ]
          },
          "metadata": {},
          "execution_count": 314
        }
      ]
    },
    {
      "cell_type": "markdown",
      "source": [
        "All regions combined"
      ],
      "metadata": {
        "id": "hc8LBxR2rkqU"
      }
    },
    {
      "cell_type": "code",
      "source": [
        "df = df.drop(['Warehouse id', 'Region', 'SKU id'], axis = 1)"
      ],
      "metadata": {
        "id": "Tj5rNdy3rnzm"
      },
      "execution_count": null,
      "outputs": []
    },
    {
      "cell_type": "code",
      "source": [
        "x4 = df.drop([\"May-21\"], axis = 1)\n",
        "y4 = df[\"May-21\"]\n",
        "y4 = pd.DataFrame(y4)"
      ],
      "metadata": {
        "id": "zxQQnMZnrySP"
      },
      "execution_count": null,
      "outputs": []
    },
    {
      "cell_type": "code",
      "source": [
        "from sklearn.preprocessing import StandardScaler\n",
        "sc_x = StandardScaler()\n",
        "sc_y = StandardScaler()\n",
        "x4 = sc_x.fit_transform(x4)\n",
        "y4 = sc_y.fit_transform(y4)"
      ],
      "metadata": {
        "id": "xrUPlS3Or4E_"
      },
      "execution_count": null,
      "outputs": []
    },
    {
      "cell_type": "code",
      "source": [
        "from sklearn.model_selection import train_test_split\n",
        "x4_train, x4_test, y4_train, y4_test = train_test_split(x4, y4, test_size = 0.33, random_state = 42)"
      ],
      "metadata": {
        "id": "rLrNIP5Jr89h"
      },
      "execution_count": null,
      "outputs": []
    },
    {
      "cell_type": "code",
      "source": [
        "model.fit(x4_train, y4_train)"
      ],
      "metadata": {
        "colab": {
          "base_uri": "https://localhost:8080/"
        },
        "id": "gT-HlC0nsZp9",
        "outputId": "f30f563a-0fc2-4fa3-fa5d-0b267bfe8698"
      },
      "execution_count": null,
      "outputs": [
        {
          "output_type": "stream",
          "name": "stderr",
          "text": [
            "/usr/local/lib/python3.7/dist-packages/sklearn/utils/validation.py:993: DataConversionWarning: A column-vector y was passed when a 1d array was expected. Please change the shape of y to (n_samples, ), for example using ravel().\n",
            "  y = column_or_1d(y, warn=True)\n"
          ]
        },
        {
          "output_type": "execute_result",
          "data": {
            "text/plain": [
              "LGBMRegressor()"
            ]
          },
          "metadata": {},
          "execution_count": 319
        }
      ]
    },
    {
      "cell_type": "code",
      "source": [
        "y4_pred = model.predict(x4_test)\n",
        "print(metrics.r2_score(y4_test, y4_pred))"
      ],
      "metadata": {
        "colab": {
          "base_uri": "https://localhost:8080/"
        },
        "id": "TpCqSVT4sfRZ",
        "outputId": "64a36bbe-a9d4-49a9-e6d7-d734c6216195"
      },
      "execution_count": null,
      "outputs": [
        {
          "output_type": "stream",
          "name": "stdout",
          "text": [
            "0.5815214997082637\n"
          ]
        }
      ]
    },
    {
      "cell_type": "code",
      "source": [
        "mae(y4_pred, y4_test)"
      ],
      "metadata": {
        "colab": {
          "base_uri": "https://localhost:8080/"
        },
        "id": "5TdGqeSRsl9g",
        "outputId": "6fb30f89-b944-4586-d0f4-a2324e8469c0"
      },
      "execution_count": null,
      "outputs": [
        {
          "output_type": "execute_result",
          "data": {
            "text/plain": [
              "2.51401551858267"
            ]
          },
          "metadata": {},
          "execution_count": 321
        }
      ]
    }
  ]
}