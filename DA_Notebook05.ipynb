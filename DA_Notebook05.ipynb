{
  "nbformat": 4,
  "nbformat_minor": 0,
  "metadata": {
    "colab": {
      "name": "Elastic Net",
      "provenance": [],
      "collapsed_sections": []
    },
    "kernelspec": {
      "name": "python3",
      "display_name": "Python 3"
    },
    "language_info": {
      "name": "python"
    }
  },
  "cells": [
    {
      "cell_type": "code",
      "execution_count": null,
      "metadata": {
        "id": "vYjlKU_ou8Pl"
      },
      "outputs": [],
      "source": [
        "from sklearn.linear_model import ElasticNet\n",
        "import numpy as np\n",
        "import pandas as pd\n",
        "import matplotlib.pyplot as plt\n",
        "from sklearn import metrics\n",
        "df = pd.read_csv('train_data_.csv')"
      ]
    },
    {
      "cell_type": "markdown",
      "source": [
        "West Region\n"
      ],
      "metadata": {
        "id": "LrOsakqOyy2E"
      }
    },
    {
      "cell_type": "code",
      "source": [
        "west = df.loc[df['Region'] == \"WEST\"]\n",
        "west = west.drop(['Warehouse id', 'Region', 'SKU id'], axis = 1)"
      ],
      "metadata": {
        "id": "HnJ8zP-ayyNA"
      },
      "execution_count": null,
      "outputs": []
    },
    {
      "cell_type": "code",
      "source": [
        "x = west.drop([\"May-21\"], axis = 1)\n",
        "y = west[\"May-21\"]\n",
        "y = pd.DataFrame(y)"
      ],
      "metadata": {
        "id": "utKYXVT-zHwq"
      },
      "execution_count": null,
      "outputs": []
    },
    {
      "cell_type": "code",
      "source": [
        "from sklearn.preprocessing import StandardScaler\n",
        "sc_x = StandardScaler()\n",
        "sc_y = StandardScaler()\n",
        "x = sc_x.fit_transform(x)\n",
        "y = sc_y.fit_transform(y)"
      ],
      "metadata": {
        "id": "yL_B06G9zMyx"
      },
      "execution_count": null,
      "outputs": []
    },
    {
      "cell_type": "code",
      "source": [
        "from sklearn.model_selection import train_test_split\n",
        "x_train, x_test, y_train, y_test = train_test_split(x, y, test_size = 0.33, random_state = 42)"
      ],
      "metadata": {
        "id": "gXmKH7n_zPHs"
      },
      "execution_count": null,
      "outputs": []
    },
    {
      "cell_type": "code",
      "source": [
        "regressor = ElasticNet(random_state=0)"
      ],
      "metadata": {
        "id": "r2Cgx80ozT7T"
      },
      "execution_count": null,
      "outputs": []
    },
    {
      "cell_type": "code",
      "source": [
        "regressor.fit(x_train, y_train) "
      ],
      "metadata": {
        "colab": {
          "base_uri": "https://localhost:8080/"
        },
        "id": "QdE6JAb9zXIf",
        "outputId": "58e46910-709a-4fd8-8b66-94d00bc09d01"
      },
      "execution_count": null,
      "outputs": [
        {
          "output_type": "execute_result",
          "data": {
            "text/plain": [
              "ElasticNet(random_state=0)"
            ]
          },
          "metadata": {},
          "execution_count": 7
        }
      ]
    },
    {
      "cell_type": "code",
      "source": [
        "print(regressor.score(x_test, y_test))"
      ],
      "metadata": {
        "colab": {
          "base_uri": "https://localhost:8080/"
        },
        "id": "EN-mcs6PzgrB",
        "outputId": "ee9a09c7-ade2-4ee2-d972-a543b1f5939d"
      },
      "execution_count": null,
      "outputs": [
        {
          "output_type": "stream",
          "name": "stdout",
          "text": [
            "0.4702538848887704\n"
          ]
        }
      ]
    },
    {
      "cell_type": "code",
      "source": [
        "from sklearn.metrics import mean_absolute_percentage_error as mae\n",
        "y_pred = regressor.predict(x_test)\n",
        "mae(y_pred, y_test)"
      ],
      "metadata": {
        "colab": {
          "base_uri": "https://localhost:8080/"
        },
        "id": "p_T-kai6zqM4",
        "outputId": "b3d160a9-c43d-4791-af15-1ebaf0615972"
      },
      "execution_count": null,
      "outputs": [
        {
          "output_type": "execute_result",
          "data": {
            "text/plain": [
              "14.332737117225452"
            ]
          },
          "metadata": {},
          "execution_count": 9
        }
      ]
    },
    {
      "cell_type": "markdown",
      "source": [
        "North Region\n"
      ],
      "metadata": {
        "id": "YH6t8gKUz4Lu"
      }
    },
    {
      "cell_type": "code",
      "source": [
        "north = df.loc[df['Region'] == \"NORTH\"]\n",
        "north = north.drop(['Warehouse id', 'Region', 'SKU id'], axis = 1)"
      ],
      "metadata": {
        "id": "qJZ7Ly4Uz7yr"
      },
      "execution_count": null,
      "outputs": []
    },
    {
      "cell_type": "code",
      "source": [
        "x1 = north.drop([\"May-21\"], axis = 1)\n",
        "y1 = north[\"May-21\"]\n",
        "y1 = pd.DataFrame(y1)"
      ],
      "metadata": {
        "id": "KTY0ln0iz-QM"
      },
      "execution_count": null,
      "outputs": []
    },
    {
      "cell_type": "code",
      "source": [
        "from sklearn.preprocessing import StandardScaler\n",
        "sc_x = StandardScaler()\n",
        "sc_y = StandardScaler()\n",
        "x1 = sc_x.fit_transform(x1)\n",
        "y1 = sc_y.fit_transform(y1)"
      ],
      "metadata": {
        "id": "MvEyyVxq0CeT"
      },
      "execution_count": null,
      "outputs": []
    },
    {
      "cell_type": "code",
      "source": [
        "x1_train, x1_test, y1_train, y1_test = train_test_split(x1, y1, test_size = 0.33, random_state = 42)"
      ],
      "metadata": {
        "id": "IasQReNe0Jh8"
      },
      "execution_count": null,
      "outputs": []
    },
    {
      "cell_type": "code",
      "source": [
        "regressor.fit(x1_train, y1_train) \n",
        "print(regressor.score(x1_test, y1_test))"
      ],
      "metadata": {
        "colab": {
          "base_uri": "https://localhost:8080/"
        },
        "id": "w3IlOkfu0Lbs",
        "outputId": "e4421c89-b6ad-44ff-a8c0-f5146a142603"
      },
      "execution_count": null,
      "outputs": [
        {
          "output_type": "stream",
          "name": "stdout",
          "text": [
            "0.1323996998951784\n"
          ]
        }
      ]
    },
    {
      "cell_type": "code",
      "source": [
        "from sklearn.metrics import mean_absolute_percentage_error as mae\n",
        "y1_pred = regressor.predict(x1_test)\n",
        "mae(y1_pred, y1_test)"
      ],
      "metadata": {
        "colab": {
          "base_uri": "https://localhost:8080/"
        },
        "id": "IwXmRJVa0fSQ",
        "outputId": "987dca21-6d93-4285-cbd2-a745bba55f6f"
      },
      "execution_count": null,
      "outputs": [
        {
          "output_type": "execute_result",
          "data": {
            "text/plain": [
              "10.151298616027749"
            ]
          },
          "metadata": {},
          "execution_count": 15
        }
      ]
    },
    {
      "cell_type": "markdown",
      "source": [
        "South Region"
      ],
      "metadata": {
        "id": "jEEuIsaz0oJm"
      }
    },
    {
      "cell_type": "code",
      "source": [
        "south = df.loc[df['Region'] == \"SOUTH\"]\n",
        "south = south.drop(['Warehouse id', 'Region', 'SKU id'], axis = 1)"
      ],
      "metadata": {
        "id": "OF0Amysl0tdL"
      },
      "execution_count": null,
      "outputs": []
    },
    {
      "cell_type": "code",
      "source": [
        "x2 = south.drop([\"May-21\"], axis = 1)\n",
        "y2 = south[\"May-21\"]\n",
        "y2 = pd.DataFrame(y2)"
      ],
      "metadata": {
        "id": "XUprP76g0w2Z"
      },
      "execution_count": null,
      "outputs": []
    },
    {
      "cell_type": "code",
      "source": [
        "from sklearn.preprocessing import StandardScaler\n",
        "sc_x = StandardScaler()\n",
        "sc_y = StandardScaler()\n",
        "x2 = sc_x.fit_transform(x2)\n",
        "y2 = sc_y.fit_transform(y2)"
      ],
      "metadata": {
        "id": "p90peZKo00Yw"
      },
      "execution_count": null,
      "outputs": []
    },
    {
      "cell_type": "code",
      "source": [
        "x2_train, x2_test, y2_train, y2_test = train_test_split(x2, y2, test_size = 0.33, random_state = 42)"
      ],
      "metadata": {
        "id": "Lzp9UeGq06mh"
      },
      "execution_count": null,
      "outputs": []
    },
    {
      "cell_type": "code",
      "source": [
        "regressor.fit(x2_train, y2_train) \n",
        "print(regressor.score(x2_test, y2_test))"
      ],
      "metadata": {
        "colab": {
          "base_uri": "https://localhost:8080/"
        },
        "id": "wepupn400-WB",
        "outputId": "b82b97e4-a550-4ace-b890-e243aa7edebf"
      },
      "execution_count": null,
      "outputs": [
        {
          "output_type": "stream",
          "name": "stdout",
          "text": [
            "0.19747734661928962\n"
          ]
        }
      ]
    },
    {
      "cell_type": "code",
      "source": [
        "from sklearn.metrics import mean_absolute_percentage_error as mae\n",
        "y2_pred = regressor.predict(x2_test)\n",
        "mae(y2_pred, y2_test)"
      ],
      "metadata": {
        "colab": {
          "base_uri": "https://localhost:8080/"
        },
        "id": "PQknrWVb1E0S",
        "outputId": "7d9a40ee-0028-4b96-f42b-83187b3759e8"
      },
      "execution_count": null,
      "outputs": [
        {
          "output_type": "execute_result",
          "data": {
            "text/plain": [
              "5.200352799128706"
            ]
          },
          "metadata": {},
          "execution_count": 21
        }
      ]
    },
    {
      "cell_type": "markdown",
      "source": [
        "East Region"
      ],
      "metadata": {
        "id": "phDvOi3k1aRt"
      }
    },
    {
      "cell_type": "code",
      "source": [
        "east= df.loc[df['Region'] == \"EAST\"]\n",
        "east = east.drop(['Warehouse id', 'Region', 'SKU id'], axis = 1)"
      ],
      "metadata": {
        "id": "xdsU5lIA1y8c"
      },
      "execution_count": null,
      "outputs": []
    },
    {
      "cell_type": "code",
      "source": [
        "x3 = east.drop([\"May-21\"], axis = 1)\n",
        "y3 = east[\"May-21\"]\n",
        "y3 = pd.DataFrame(y3)"
      ],
      "metadata": {
        "id": "-bd3cKIS19fh"
      },
      "execution_count": null,
      "outputs": []
    },
    {
      "cell_type": "code",
      "source": [
        "from sklearn.preprocessing import StandardScaler\n",
        "sc_x = StandardScaler()\n",
        "sc_y = StandardScaler()\n",
        "x3 = sc_x.fit_transform(x3)\n",
        "y3 = sc_y.fit_transform(y3)"
      ],
      "metadata": {
        "id": "zT8J-mvE2BSu"
      },
      "execution_count": null,
      "outputs": []
    },
    {
      "cell_type": "code",
      "source": [
        "x3_train, x3_test, y3_train, y3_test = train_test_split(x3, y3, test_size = 0.33, random_state = 42)"
      ],
      "metadata": {
        "id": "B6yxdFqc2EZG"
      },
      "execution_count": null,
      "outputs": []
    },
    {
      "cell_type": "code",
      "source": [
        "regressor.fit(x3_train, y3_train) \n",
        "print(regressor.score(x3_test, y3_test))"
      ],
      "metadata": {
        "colab": {
          "base_uri": "https://localhost:8080/"
        },
        "id": "NYYVVoQb2J2Q",
        "outputId": "55015965-9e9f-4962-8ca1-2338f0a90c4d"
      },
      "execution_count": null,
      "outputs": [
        {
          "output_type": "stream",
          "name": "stdout",
          "text": [
            "-0.0050334972808487866\n"
          ]
        }
      ]
    },
    {
      "cell_type": "code",
      "source": [
        "y3_pred = regressor.predict(x3_test)\n",
        "mae(y3_pred, y3_test)"
      ],
      "metadata": {
        "colab": {
          "base_uri": "https://localhost:8080/"
        },
        "id": "0XXbRvbq2S-m",
        "outputId": "88d12e54-d3f7-45dc-d558-21563e78d775"
      },
      "execution_count": null,
      "outputs": [
        {
          "output_type": "execute_result",
          "data": {
            "text/plain": [
              "15.357108598835216"
            ]
          },
          "metadata": {},
          "execution_count": 27
        }
      ]
    },
    {
      "cell_type": "markdown",
      "source": [
        "All regions combined"
      ],
      "metadata": {
        "id": "2auoZIQ_ztsP"
      }
    },
    {
      "cell_type": "code",
      "source": [
        "df = df.drop(['Warehouse id', 'Region', 'SKU id'], axis = 1)\n",
        "x4 = df.drop([\"May-21\"], axis = 1)\n",
        "y4 = df[\"May-21\"]\n",
        "y4 = pd.DataFrame(y4)"
      ],
      "metadata": {
        "id": "5sOmSWvYwPM6"
      },
      "execution_count": null,
      "outputs": []
    },
    {
      "cell_type": "code",
      "source": [
        "from sklearn.preprocessing import StandardScaler\n",
        "sc_x = StandardScaler()\n",
        "sc_y = StandardScaler()\n",
        "x4 = sc_x.fit_transform(x4)\n",
        "y4 = sc_y.fit_transform(y4)"
      ],
      "metadata": {
        "id": "jKArXgMRwrAQ"
      },
      "execution_count": null,
      "outputs": []
    },
    {
      "cell_type": "code",
      "source": [
        "from sklearn.model_selection import train_test_split\n",
        "x4_train, x4_test, y4_train, y4_test = train_test_split(x4, y4, test_size = 0.33, random_state = 42)"
      ],
      "metadata": {
        "id": "DBBaKT5Oxeqt"
      },
      "execution_count": null,
      "outputs": []
    },
    {
      "cell_type": "code",
      "source": [
        "regressor.fit(x4, y4) "
      ],
      "metadata": {
        "colab": {
          "base_uri": "https://localhost:8080/"
        },
        "id": "Ic_cQ-Wew2ov",
        "outputId": "322615e4-1ea7-4b65-9044-627f588aa3d1"
      },
      "execution_count": null,
      "outputs": [
        {
          "output_type": "execute_result",
          "data": {
            "text/plain": [
              "ElasticNet(random_state=0)"
            ]
          },
          "metadata": {},
          "execution_count": 31
        }
      ]
    },
    {
      "cell_type": "code",
      "source": [
        "print(regressor.score(x4_test, y4_test))"
      ],
      "metadata": {
        "colab": {
          "base_uri": "https://localhost:8080/"
        },
        "id": "kKxP57Bixv1G",
        "outputId": "a9fd41f8-8705-49e5-98dc-f04cefcdb83a"
      },
      "execution_count": null,
      "outputs": [
        {
          "output_type": "stream",
          "name": "stdout",
          "text": [
            "0.3342118265141153\n"
          ]
        }
      ]
    },
    {
      "cell_type": "code",
      "source": [
        "from sklearn.metrics import mean_absolute_percentage_error as mae\n",
        "y4_pred = regressor.predict(x4_test)\n",
        "mae(y4_pred, y4_test)"
      ],
      "metadata": {
        "colab": {
          "base_uri": "https://localhost:8080/"
        },
        "id": "jtiD3f0Bx8CL",
        "outputId": "df882025-1b11-472f-d7a1-a1e93869ac7a"
      },
      "execution_count": null,
      "outputs": [
        {
          "output_type": "execute_result",
          "data": {
            "text/plain": [
              "19.443769595218683"
            ]
          },
          "metadata": {},
          "execution_count": 33
        }
      ]
    }
  ]
}