{
  "nbformat": 4,
  "nbformat_minor": 0,
  "metadata": {
    "colab": {
      "name": "ExtraTreesRegressor",
      "provenance": [],
      "collapsed_sections": []
    },
    "kernelspec": {
      "name": "python3",
      "display_name": "Python 3"
    },
    "language_info": {
      "name": "python"
    }
  },
  "cells": [
    {
      "cell_type": "code",
      "execution_count": null,
      "metadata": {
        "id": "vYjlKU_ou8Pl"
      },
      "outputs": [],
      "source": [
        "from sklearn.ensemble import ExtraTreesRegressor\n",
        "import numpy as np\n",
        "import pandas as pd\n",
        "import matplotlib.pyplot as plt\n",
        "from sklearn import metrics\n",
        "df = pd.read_csv('train_data_.csv')"
      ]
    },
    {
      "cell_type": "markdown",
      "source": [
        "West Region\n"
      ],
      "metadata": {
        "id": "LrOsakqOyy2E"
      }
    },
    {
      "cell_type": "code",
      "source": [
        "west = df.loc[df['Region'] == \"WEST\"]\n",
        "west = west.drop(['Warehouse id', 'Region', 'SKU id'], axis = 1)"
      ],
      "metadata": {
        "id": "HnJ8zP-ayyNA"
      },
      "execution_count": null,
      "outputs": []
    },
    {
      "cell_type": "code",
      "source": [
        "x = west.drop([\"May-21\"], axis = 1)\n",
        "y = west[\"May-21\"]\n",
        "y = pd.DataFrame(y)"
      ],
      "metadata": {
        "id": "utKYXVT-zHwq"
      },
      "execution_count": null,
      "outputs": []
    },
    {
      "cell_type": "code",
      "source": [
        "from sklearn.preprocessing import StandardScaler\n",
        "sc_x = StandardScaler()\n",
        "sc_y = StandardScaler()\n",
        "x = sc_x.fit_transform(x)\n",
        "y = sc_y.fit_transform(y)"
      ],
      "metadata": {
        "id": "yL_B06G9zMyx"
      },
      "execution_count": null,
      "outputs": []
    },
    {
      "cell_type": "code",
      "source": [
        "from sklearn.model_selection import train_test_split\n",
        "x_train, x_test, y_train, y_test = train_test_split(x, y, test_size = 0.33, random_state = 42)"
      ],
      "metadata": {
        "id": "gXmKH7n_zPHs"
      },
      "execution_count": null,
      "outputs": []
    },
    {
      "cell_type": "code",
      "source": [
        "regressor = ExtraTreesRegressor(n_estimators=100, random_state=0)"
      ],
      "metadata": {
        "id": "r2Cgx80ozT7T"
      },
      "execution_count": null,
      "outputs": []
    },
    {
      "cell_type": "code",
      "source": [
        "regressor.fit(x_train, y_train) "
      ],
      "metadata": {
        "colab": {
          "base_uri": "https://localhost:8080/"
        },
        "id": "QdE6JAb9zXIf",
        "outputId": "497bd4f5-ecdc-47d5-c219-3e9ca9f07410"
      },
      "execution_count": null,
      "outputs": [
        {
          "output_type": "stream",
          "name": "stderr",
          "text": [
            "/usr/local/lib/python3.7/dist-packages/ipykernel_launcher.py:1: DataConversionWarning: A column-vector y was passed when a 1d array was expected. Please change the shape of y to (n_samples,), for example using ravel().\n",
            "  \"\"\"Entry point for launching an IPython kernel.\n"
          ]
        },
        {
          "output_type": "execute_result",
          "data": {
            "text/plain": [
              "ExtraTreesRegressor(random_state=0)"
            ]
          },
          "metadata": {},
          "execution_count": 14
        }
      ]
    },
    {
      "cell_type": "code",
      "source": [
        "print(regressor.score(x_test, y_test))"
      ],
      "metadata": {
        "colab": {
          "base_uri": "https://localhost:8080/"
        },
        "id": "EN-mcs6PzgrB",
        "outputId": "fa138201-851b-423c-db28-215fa85bc2b1"
      },
      "execution_count": null,
      "outputs": [
        {
          "output_type": "stream",
          "name": "stdout",
          "text": [
            "0.7815919804022581\n"
          ]
        }
      ]
    },
    {
      "cell_type": "code",
      "source": [
        "from sklearn.metrics import mean_absolute_percentage_error as mae\n",
        "y_pred = regressor.predict(x_test)\n",
        "mae(y_pred, y_test)"
      ],
      "metadata": {
        "colab": {
          "base_uri": "https://localhost:8080/"
        },
        "id": "p_T-kai6zqM4",
        "outputId": "ea29cee7-d6a3-4115-98e6-16e0f921e7a3"
      },
      "execution_count": null,
      "outputs": [
        {
          "output_type": "execute_result",
          "data": {
            "text/plain": [
              "1.1809030077472253"
            ]
          },
          "metadata": {},
          "execution_count": 16
        }
      ]
    },
    {
      "cell_type": "markdown",
      "source": [
        "North Region\n"
      ],
      "metadata": {
        "id": "YH6t8gKUz4Lu"
      }
    },
    {
      "cell_type": "code",
      "source": [
        "north = df.loc[df['Region'] == \"NORTH\"]\n",
        "north = north.drop(['Warehouse id', 'Region', 'SKU id'], axis = 1)"
      ],
      "metadata": {
        "id": "qJZ7Ly4Uz7yr"
      },
      "execution_count": null,
      "outputs": []
    },
    {
      "cell_type": "code",
      "source": [
        "x1 = north.drop([\"May-21\"], axis = 1)\n",
        "y1 = north[\"May-21\"]\n",
        "y1 = pd.DataFrame(y1)"
      ],
      "metadata": {
        "id": "KTY0ln0iz-QM"
      },
      "execution_count": null,
      "outputs": []
    },
    {
      "cell_type": "code",
      "source": [
        "from sklearn.preprocessing import StandardScaler\n",
        "sc_x = StandardScaler()\n",
        "sc_y = StandardScaler()\n",
        "x1 = sc_x.fit_transform(x1)\n",
        "y1 = sc_y.fit_transform(y1)"
      ],
      "metadata": {
        "id": "MvEyyVxq0CeT"
      },
      "execution_count": null,
      "outputs": []
    },
    {
      "cell_type": "code",
      "source": [
        "x1_train, x1_test, y1_train, y1_test = train_test_split(x1, y1, test_size = 0.33, random_state = 42)"
      ],
      "metadata": {
        "id": "IasQReNe0Jh8"
      },
      "execution_count": null,
      "outputs": []
    },
    {
      "cell_type": "code",
      "source": [
        "regressor.fit(x1_train, y1_train) \n",
        "print(regressor.score(x1_test, y1_test))"
      ],
      "metadata": {
        "colab": {
          "base_uri": "https://localhost:8080/"
        },
        "id": "w3IlOkfu0Lbs",
        "outputId": "91b55b8b-7f7b-4530-99ac-cd4f57eda4e6"
      },
      "execution_count": null,
      "outputs": [
        {
          "output_type": "stream",
          "name": "stderr",
          "text": [
            "/usr/local/lib/python3.7/dist-packages/ipykernel_launcher.py:1: DataConversionWarning: A column-vector y was passed when a 1d array was expected. Please change the shape of y to (n_samples,), for example using ravel().\n",
            "  \"\"\"Entry point for launching an IPython kernel.\n"
          ]
        },
        {
          "output_type": "stream",
          "name": "stdout",
          "text": [
            "0.5351672005897636\n"
          ]
        }
      ]
    },
    {
      "cell_type": "code",
      "source": [
        "from sklearn.metrics import mean_absolute_percentage_error as mae\n",
        "y1_pred = regressor.predict(x1_test)\n",
        "mae(y1_pred, y1_test)"
      ],
      "metadata": {
        "colab": {
          "base_uri": "https://localhost:8080/"
        },
        "id": "IwXmRJVa0fSQ",
        "outputId": "49a1dd18-b167-463c-a746-080fe336adbc"
      },
      "execution_count": null,
      "outputs": [
        {
          "output_type": "execute_result",
          "data": {
            "text/plain": [
              "2.285696425940083"
            ]
          },
          "metadata": {},
          "execution_count": 22
        }
      ]
    },
    {
      "cell_type": "markdown",
      "source": [
        "South Region"
      ],
      "metadata": {
        "id": "jEEuIsaz0oJm"
      }
    },
    {
      "cell_type": "code",
      "source": [
        "south = df.loc[df['Region'] == \"SOUTH\"]\n",
        "south = south.drop(['Warehouse id', 'Region', 'SKU id'], axis = 1)"
      ],
      "metadata": {
        "id": "OF0Amysl0tdL"
      },
      "execution_count": null,
      "outputs": []
    },
    {
      "cell_type": "code",
      "source": [
        "x2 = south.drop([\"May-21\"], axis = 1)\n",
        "y2 = south[\"May-21\"]\n",
        "y2 = pd.DataFrame(y2)"
      ],
      "metadata": {
        "id": "XUprP76g0w2Z"
      },
      "execution_count": null,
      "outputs": []
    },
    {
      "cell_type": "code",
      "source": [
        "from sklearn.preprocessing import StandardScaler\n",
        "sc_x = StandardScaler()\n",
        "sc_y = StandardScaler()\n",
        "x2 = sc_x.fit_transform(x2)\n",
        "y2 = sc_y.fit_transform(y2)"
      ],
      "metadata": {
        "id": "p90peZKo00Yw"
      },
      "execution_count": null,
      "outputs": []
    },
    {
      "cell_type": "code",
      "source": [
        "x2_train, x2_test, y2_train, y2_test = train_test_split(x2, y2, test_size = 0.33, random_state = 42)"
      ],
      "metadata": {
        "id": "Lzp9UeGq06mh"
      },
      "execution_count": null,
      "outputs": []
    },
    {
      "cell_type": "code",
      "source": [
        "regressor.fit(x2_train, y2_train) \n",
        "print(regressor.score(x2_test, y2_test))"
      ],
      "metadata": {
        "colab": {
          "base_uri": "https://localhost:8080/"
        },
        "id": "wepupn400-WB",
        "outputId": "6ad90777-db10-4863-90b0-d95714845624"
      },
      "execution_count": null,
      "outputs": [
        {
          "output_type": "stream",
          "name": "stderr",
          "text": [
            "/usr/local/lib/python3.7/dist-packages/ipykernel_launcher.py:1: DataConversionWarning: A column-vector y was passed when a 1d array was expected. Please change the shape of y to (n_samples,), for example using ravel().\n",
            "  \"\"\"Entry point for launching an IPython kernel.\n"
          ]
        },
        {
          "output_type": "stream",
          "name": "stdout",
          "text": [
            "0.8088840785413008\n"
          ]
        }
      ]
    },
    {
      "cell_type": "code",
      "source": [
        "from sklearn.metrics import mean_absolute_percentage_error as mae\n",
        "y2_pred = regressor.predict(x2_test)\n",
        "mae(y2_pred, y2_test)"
      ],
      "metadata": {
        "colab": {
          "base_uri": "https://localhost:8080/"
        },
        "id": "PQknrWVb1E0S",
        "outputId": "a6b81b5f-c664-491a-8e79-5c4a0c2b869a"
      },
      "execution_count": null,
      "outputs": [
        {
          "output_type": "execute_result",
          "data": {
            "text/plain": [
              "1.5838448871926396"
            ]
          },
          "metadata": {},
          "execution_count": 28
        }
      ]
    },
    {
      "cell_type": "markdown",
      "source": [
        "East Region"
      ],
      "metadata": {
        "id": "phDvOi3k1aRt"
      }
    },
    {
      "cell_type": "code",
      "source": [
        "east= df.loc[df['Region'] == \"EAST\"]\n",
        "east = east.drop(['Warehouse id', 'Region', 'SKU id'], axis = 1)"
      ],
      "metadata": {
        "id": "xdsU5lIA1y8c"
      },
      "execution_count": null,
      "outputs": []
    },
    {
      "cell_type": "code",
      "source": [
        "x3 = east.drop([\"May-21\"], axis = 1)\n",
        "y3 = east[\"May-21\"]\n",
        "y3 = pd.DataFrame(y3)"
      ],
      "metadata": {
        "id": "-bd3cKIS19fh"
      },
      "execution_count": null,
      "outputs": []
    },
    {
      "cell_type": "code",
      "source": [
        "from sklearn.preprocessing import StandardScaler\n",
        "sc_x = StandardScaler()\n",
        "sc_y = StandardScaler()\n",
        "x3 = sc_x.fit_transform(x3)\n",
        "y3 = sc_y.fit_transform(y3)"
      ],
      "metadata": {
        "id": "zT8J-mvE2BSu"
      },
      "execution_count": null,
      "outputs": []
    },
    {
      "cell_type": "code",
      "source": [
        "x3_train, x3_test, y3_train, y3_test = train_test_split(x3, y3, test_size = 0.33, random_state = 42)"
      ],
      "metadata": {
        "id": "B6yxdFqc2EZG"
      },
      "execution_count": null,
      "outputs": []
    },
    {
      "cell_type": "code",
      "source": [
        "regressor.fit(x3_train, y3_train) \n",
        "print(regressor.score(x3_test, y3_test))"
      ],
      "metadata": {
        "colab": {
          "base_uri": "https://localhost:8080/"
        },
        "id": "NYYVVoQb2J2Q",
        "outputId": "60f2c1f0-3d84-43ee-f65c-bba350913ac1"
      },
      "execution_count": null,
      "outputs": [
        {
          "output_type": "stream",
          "name": "stderr",
          "text": [
            "/usr/local/lib/python3.7/dist-packages/ipykernel_launcher.py:1: DataConversionWarning: A column-vector y was passed when a 1d array was expected. Please change the shape of y to (n_samples,), for example using ravel().\n",
            "  \"\"\"Entry point for launching an IPython kernel.\n"
          ]
        },
        {
          "output_type": "stream",
          "name": "stdout",
          "text": [
            "0.7245940357509393\n"
          ]
        }
      ]
    },
    {
      "cell_type": "code",
      "source": [
        "y3_pred = regressor.predict(x3_test)\n",
        "mae(y3_pred, y3_test)"
      ],
      "metadata": {
        "colab": {
          "base_uri": "https://localhost:8080/"
        },
        "id": "0XXbRvbq2S-m",
        "outputId": "45526d4c-7350-4bdc-87a5-da4e471f685b"
      },
      "execution_count": null,
      "outputs": [
        {
          "output_type": "execute_result",
          "data": {
            "text/plain": [
              "0.9466042058595099"
            ]
          },
          "metadata": {},
          "execution_count": 34
        }
      ]
    },
    {
      "cell_type": "markdown",
      "source": [
        "All regions combined"
      ],
      "metadata": {
        "id": "2auoZIQ_ztsP"
      }
    },
    {
      "cell_type": "code",
      "source": [
        "df = df.drop(['Warehouse id', 'Region', 'SKU id'], axis = 1)\n",
        "x4 = df.drop([\"May-21\"], axis = 1)\n",
        "y4 = df[\"May-21\"]\n",
        "y4 = pd.DataFrame(y4)"
      ],
      "metadata": {
        "id": "5sOmSWvYwPM6"
      },
      "execution_count": null,
      "outputs": []
    },
    {
      "cell_type": "code",
      "source": [
        "from sklearn.preprocessing import StandardScaler\n",
        "sc_x = StandardScaler()\n",
        "sc_y = StandardScaler()\n",
        "x4 = sc_x.fit_transform(x4)\n",
        "y4 = sc_y.fit_transform(y4)"
      ],
      "metadata": {
        "id": "jKArXgMRwrAQ"
      },
      "execution_count": null,
      "outputs": []
    },
    {
      "cell_type": "code",
      "source": [
        "from sklearn.model_selection import train_test_split\n",
        "x4_train, x4_test, y4_train, y4_test = train_test_split(x4, y4, test_size = 0.33, random_state = 42)"
      ],
      "metadata": {
        "id": "DBBaKT5Oxeqt"
      },
      "execution_count": null,
      "outputs": []
    },
    {
      "cell_type": "code",
      "source": [
        "regressor.fit(x4, y4) "
      ],
      "metadata": {
        "colab": {
          "base_uri": "https://localhost:8080/"
        },
        "id": "Ic_cQ-Wew2ov",
        "outputId": "56bea98f-ccd9-4af0-d9d5-acd17534496c"
      },
      "execution_count": null,
      "outputs": [
        {
          "output_type": "stream",
          "name": "stderr",
          "text": [
            "/usr/local/lib/python3.7/dist-packages/ipykernel_launcher.py:1: DataConversionWarning: A column-vector y was passed when a 1d array was expected. Please change the shape of y to (n_samples,), for example using ravel().\n",
            "  \"\"\"Entry point for launching an IPython kernel.\n"
          ]
        },
        {
          "output_type": "execute_result",
          "data": {
            "text/plain": [
              "ExtraTreesRegressor(random_state=0)"
            ]
          },
          "metadata": {},
          "execution_count": 38
        }
      ]
    },
    {
      "cell_type": "code",
      "source": [
        "print(regressor.score(x4_test, y4_test))"
      ],
      "metadata": {
        "colab": {
          "base_uri": "https://localhost:8080/"
        },
        "id": "kKxP57Bixv1G",
        "outputId": "3f321c40-e722-4438-d3ad-2427fa4c9f4a"
      },
      "execution_count": null,
      "outputs": [
        {
          "output_type": "stream",
          "name": "stdout",
          "text": [
            "0.9999325665334347\n"
          ]
        }
      ]
    },
    {
      "cell_type": "code",
      "source": [
        "from sklearn.metrics import mean_absolute_percentage_error as mae\n",
        "y4_pred = regressor.predict(x4_test)\n",
        "mae(y4_pred, y4_test)"
      ],
      "metadata": {
        "colab": {
          "base_uri": "https://localhost:8080/"
        },
        "id": "jtiD3f0Bx8CL",
        "outputId": "155c3412-1ad5-448d-c7aa-d053a3f38541"
      },
      "execution_count": null,
      "outputs": [
        {
          "output_type": "execute_result",
          "data": {
            "text/plain": [
              "0.004083037548080192"
            ]
          },
          "metadata": {},
          "execution_count": 40
        }
      ]
    }
  ]
}